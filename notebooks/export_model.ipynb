{
 "cells": [
  {
   "cell_type": "code",
   "id": "initial_id",
   "metadata": {
    "collapsed": true,
    "ExecuteTime": {
     "end_time": "2024-04-10T20:12:28.967886Z",
     "start_time": "2024-04-10T20:12:27.132953Z"
    }
   },
   "source": [
    "from ultralytics import YOLO\n",
    "from src import config"
   ],
   "outputs": [],
   "execution_count": 1
  },
  {
   "cell_type": "code",
   "source": "model = YOLO(config.YOLO_MODEL_PATH)",
   "metadata": {
    "collapsed": false,
    "ExecuteTime": {
     "end_time": "2024-04-10T20:12:30.700185Z",
     "start_time": "2024-04-10T20:12:30.580544Z"
    }
   },
   "id": "b038d504f002131",
   "outputs": [],
   "execution_count": 2
  },
  {
   "cell_type": "code",
   "source": "model.export(format='onnx')",
   "metadata": {
    "collapsed": false,
    "ExecuteTime": {
     "end_time": "2024-04-10T20:12:42.637498Z",
     "start_time": "2024-04-10T20:12:31.764530Z"
    }
   },
   "id": "50d7202c9a8e8669",
   "outputs": [
    {
     "name": "stdout",
     "output_type": "stream",
     "text": [
      "Ultralytics YOLOv8.1.29 🚀 Python-3.11.8 torch-2.2.1 CPU (Apple M3)\n",
      "YOLOv9c summary (fused): 384 layers, 25320790 parameters, 0 gradients, 102.3 GFLOPs\n"
     ]
    },
    {
     "name": "stderr",
     "output_type": "stream",
     "text": [
      "[W NNPACK.cpp:64] Could not initialize NNPACK! Reason: Unsupported hardware.\n"
     ]
    },
    {
     "name": "stdout",
     "output_type": "stream",
     "text": [
      "\n",
      "\u001B[34m\u001B[1mPyTorch:\u001B[0m starting from '/Users/mkurc1/Workspace/python/climbingcrux_model/notebooks/runs/detect/train6/weights/best.pt' with input shape (1, 3, 800, 800) BCHW and output shape(s) (1, 6, 13125) (49.2 MB)\n",
      "\u001B[31m\u001B[1mrequirements:\u001B[0m Ultralytics requirement ['onnx>=1.12.0'] not found, attempting AutoUpdate...\n",
      "Collecting onnx>=1.12.0\n",
      "  Downloading onnx-1.16.0-cp311-cp311-macosx_10_15_x86_64.whl.metadata (16 kB)\n",
      "Requirement already satisfied: numpy>=1.20 in /Users/mkurc1/Library/Caches/pypoetry/virtualenvs/climbingcrux-model-DQpQ2C9Y-py3.11/lib/python3.11/site-packages (from onnx>=1.12.0) (1.26.4)\n",
      "Collecting protobuf>=3.20.2 (from onnx>=1.12.0)\n",
      "  Downloading protobuf-5.26.1-cp37-abi3-macosx_10_9_universal2.whl.metadata (592 bytes)\n",
      "Downloading onnx-1.16.0-cp311-cp311-macosx_10_15_x86_64.whl (15.0 MB)\n",
      "\u001B[2K   \u001B[90m━━━━━━━━━━━━━━━━━━━━━━━━━━━━━━━━━━━━━━━━\u001B[0m \u001B[32m15.0/15.0 MB\u001B[0m \u001B[31m45.9 MB/s\u001B[0m eta \u001B[36m0:00:00\u001B[0ma \u001B[36m0:00:01\u001B[0m\n",
      "\u001B[?25hDownloading protobuf-5.26.1-cp37-abi3-macosx_10_9_universal2.whl (404 kB)\n",
      "\u001B[2K   \u001B[90m━━━━━━━━━━━━━━━━━━━━━━━━━━━━━━━━━━━━━━━━\u001B[0m \u001B[32m404.0/404.0 kB\u001B[0m \u001B[31m61.2 MB/s\u001B[0m eta \u001B[36m0:00:00\u001B[0m\n",
      "\u001B[?25hInstalling collected packages: protobuf, onnx\n",
      "Successfully installed onnx-1.16.0 protobuf-5.26.1\n",
      "\n",
      "\u001B[31m\u001B[1mrequirements:\u001B[0m AutoUpdate success ✅ 3.6s, installed 1 package: ['onnx>=1.12.0']\n",
      "\u001B[31m\u001B[1mrequirements:\u001B[0m ⚠️ \u001B[1mRestart runtime or rerun command for updates to take effect\u001B[0m\n",
      "\n",
      "\n",
      "\u001B[34m\u001B[1mONNX:\u001B[0m starting export with onnx 1.16.0 opset 17...\n",
      "\u001B[34m\u001B[1mONNX:\u001B[0m export success ✅ 6.7s, saved as '/Users/mkurc1/Workspace/python/climbingcrux_model/notebooks/runs/detect/train6/weights/best.onnx' (97.0 MB)\n",
      "\n",
      "Export complete (10.9s)\n",
      "Results saved to \u001B[1m/Users/mkurc1/Workspace/python/climbingcrux_model/notebooks/runs/detect/train6/weights\u001B[0m\n",
      "Predict:         yolo predict task=detect model=/Users/mkurc1/Workspace/python/climbingcrux_model/notebooks/runs/detect/train6/weights/best.onnx imgsz=800  \n",
      "Validate:        yolo val task=detect model=/Users/mkurc1/Workspace/python/climbingcrux_model/notebooks/runs/detect/train6/weights/best.onnx imgsz=800 data=/Users/mkurc1/Workspace/python/climbingcrux_model/config.yaml  \n",
      "Visualize:       https://netron.app\n"
     ]
    },
    {
     "data": {
      "text/plain": [
       "'/Users/mkurc1/Workspace/python/climbingcrux_model/notebooks/runs/detect/train6/weights/best.onnx'"
      ]
     },
     "execution_count": 3,
     "metadata": {},
     "output_type": "execute_result"
    }
   ],
   "execution_count": 3
  },
  {
   "cell_type": "code",
   "outputs": [],
   "source": [],
   "metadata": {
    "collapsed": false
   },
   "id": "700239b8b75731be",
   "execution_count": null
  }
 ],
 "metadata": {
  "kernelspec": {
   "display_name": "Python 3",
   "language": "python",
   "name": "python3"
  },
  "language_info": {
   "codemirror_mode": {
    "name": "ipython",
    "version": 2
   },
   "file_extension": ".py",
   "mimetype": "text/x-python",
   "name": "python",
   "nbconvert_exporter": "python",
   "pygments_lexer": "ipython2",
   "version": "2.7.6"
  }
 },
 "nbformat": 4,
 "nbformat_minor": 5
}
