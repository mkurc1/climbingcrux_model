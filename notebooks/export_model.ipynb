{
 "cells": [
  {
   "cell_type": "code",
   "id": "initial_id",
   "metadata": {
    "collapsed": true,
    "ExecuteTime": {
     "end_time": "2024-05-28T15:05:45.010735Z",
     "start_time": "2024-05-28T15:05:42.879540Z"
    }
   },
   "source": [
    "from ultralytics import YOLO\n",
    "from src import config"
   ],
   "outputs": [],
   "execution_count": 1
  },
  {
   "cell_type": "code",
   "source": "model = YOLO(config.YOLO_MODEL_PATH)",
   "metadata": {
    "collapsed": false,
    "ExecuteTime": {
     "end_time": "2024-05-28T15:05:45.752320Z",
     "start_time": "2024-05-28T15:05:45.612198Z"
    }
   },
   "id": "b038d504f002131",
   "outputs": [],
   "execution_count": 2
  },
  {
   "cell_type": "code",
   "source": "model.export(format='onnx')",
   "metadata": {
    "collapsed": false,
    "ExecuteTime": {
     "end_time": "2024-05-28T15:05:53.590965Z",
     "start_time": "2024-05-28T15:05:46.268178Z"
    }
   },
   "id": "50d7202c9a8e8669",
   "outputs": [
    {
     "name": "stdout",
     "output_type": "stream",
     "text": [
      "Ultralytics YOLOv8.2.22 🚀 Python-3.11.8 torch-2.2.1 CPU (Apple M3)\n",
      "YOLOv9c summary (fused): 384 layers, 25320790 parameters, 0 gradients, 102.3 GFLOPs\n"
     ]
    },
    {
     "name": "stderr",
     "output_type": "stream",
     "text": [
      "[W NNPACK.cpp:64] Could not initialize NNPACK! Reason: Unsupported hardware.\n"
     ]
    },
    {
     "name": "stdout",
     "output_type": "stream",
     "text": [
      "\n",
      "\u001B[34m\u001B[1mPyTorch:\u001B[0m starting from '/Users/mkurc1/Workspace/python/climbingcrux_model/model/train6/weights/best.pt' with input shape (1, 3, 800, 800) BCHW and output shape(s) (1, 6, 13125) (49.2 MB)\n",
      "\n",
      "\u001B[34m\u001B[1mONNX:\u001B[0m starting export with onnx 1.16.0 opset 17...\n",
      "\u001B[34m\u001B[1mONNX:\u001B[0m export success ✅ 2.6s, saved as '/Users/mkurc1/Workspace/python/climbingcrux_model/model/train6/weights/best.onnx' (97.0 MB)\n",
      "\n",
      "Export complete (7.3s)\n",
      "Results saved to \u001B[1m/Users/mkurc1/Workspace/python/climbingcrux_model/model/train6/weights\u001B[0m\n",
      "Predict:         yolo predict task=detect model=/Users/mkurc1/Workspace/python/climbingcrux_model/model/train6/weights/best.onnx imgsz=800  \n",
      "Validate:        yolo val task=detect model=/Users/mkurc1/Workspace/python/climbingcrux_model/model/train6/weights/best.onnx imgsz=800 data=/Users/mkurc1/Workspace/python/climbingcrux_model/config.yaml  \n",
      "Visualize:       https://netron.app\n"
     ]
    },
    {
     "data": {
      "text/plain": [
       "'/Users/mkurc1/Workspace/python/climbingcrux_model/model/train6/weights/best.onnx'"
      ]
     },
     "execution_count": 3,
     "metadata": {},
     "output_type": "execute_result"
    }
   ],
   "execution_count": 3
  },
  {
   "cell_type": "code",
   "outputs": [],
   "source": [],
   "metadata": {
    "collapsed": false
   },
   "id": "700239b8b75731be",
   "execution_count": null
  }
 ],
 "metadata": {
  "kernelspec": {
   "display_name": "Python 3",
   "language": "python",
   "name": "python3"
  },
  "language_info": {
   "codemirror_mode": {
    "name": "ipython",
    "version": 2
   },
   "file_extension": ".py",
   "mimetype": "text/x-python",
   "name": "python",
   "nbconvert_exporter": "python",
   "pygments_lexer": "ipython2",
   "version": "2.7.6"
  }
 },
 "nbformat": 4,
 "nbformat_minor": 5
}
