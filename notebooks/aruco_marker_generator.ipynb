{
 "cells": [
  {
   "cell_type": "code",
   "execution_count": 1,
   "id": "initial_id",
   "metadata": {
    "collapsed": true,
    "ExecuteTime": {
     "end_time": "2024-03-26T20:03:15.472934Z",
     "start_time": "2024-03-26T20:03:15.323166Z"
    }
   },
   "outputs": [],
   "source": [
    "import cv2\n",
    "from PIL import Image\n",
    "from src import config"
   ]
  },
  {
   "cell_type": "markdown",
   "source": [
    "# Generate a 5x5 ArUco marker \n",
    "The following code generates a 5x5 ArUco marker with an ID of 0 and a size of 200x200 pixels. \n",
    "The marker can contain IDs from 0 to 49."
   ],
   "metadata": {
    "collapsed": false
   },
   "id": "bf6bca70a144afb7"
  },
  {
   "cell_type": "markdown",
   "source": [],
   "metadata": {
    "collapsed": false
   },
   "id": "21787154d24cc930"
  },
  {
   "cell_type": "code",
   "outputs": [],
   "source": [
    "dictionary = cv2.aruco.getPredefinedDictionary(config.MARKER_ARUCO_DICT)\n",
    "marker_id = 0\n",
    "marker_size = 200 # 200x200 pixels\n",
    "marker_img = cv2.aruco.generateImageMarker(dictionary, marker_id, marker_size)"
   ],
   "metadata": {
    "collapsed": false,
    "ExecuteTime": {
     "end_time": "2024-03-26T20:03:36.421600Z",
     "start_time": "2024-03-26T20:03:36.415035Z"
    }
   },
   "id": "c2849c62b51bc240",
   "execution_count": 2
  },
  {
   "cell_type": "markdown",
   "source": [
    "# Display the marker image"
   ],
   "metadata": {
    "collapsed": false
   },
   "id": "cbd34280ae6f9e38"
  },
  {
   "cell_type": "code",
   "outputs": [
    {
     "data": {
      "text/plain": "<PIL.Image.Image image mode=RGB size=200x200>",
      "image/png": "[encoded data removed]",
      "image/jpeg": "[encoded data removed]"
     },
     "metadata": {},
     "output_type": "display_data"
    }
   ],
   "source": [
    "preview = cv2.cvtColor(marker_img, cv2.COLOR_BGR2RGB) # Converting BGR to RGB\n",
    "display(Image.fromarray(preview))"
   ],
   "metadata": {
    "collapsed": false,
    "ExecuteTime": {
     "end_time": "2024-03-26T20:03:47.436288Z",
     "start_time": "2024-03-26T20:03:47.419025Z"
    }
   },
   "id": "2dab07f8bbd221e9",
   "execution_count": 3
  },
  {
   "cell_type": "markdown",
   "source": [
    "# Save the marker image"
   ],
   "metadata": {
    "collapsed": false
   },
   "id": "7f450e0220c65694"
  },
  {
   "cell_type": "code",
   "outputs": [
    {
     "data": {
      "text/plain": "True"
     },
     "execution_count": 4,
     "metadata": {},
     "output_type": "execute_result"
    }
   ],
   "source": [
    "cv2.imwrite('aruco_marker_5x5_200px.png', marker_img)"
   ],
   "metadata": {
    "collapsed": false,
    "ExecuteTime": {
     "end_time": "2024-03-22T17:38:22.319882Z",
     "start_time": "2024-03-22T17:38:22.315380Z"
    }
   },
   "id": "b14d427641ad622e",
   "execution_count": 4
  },
  {
   "cell_type": "code",
   "outputs": [],
   "source": [],
   "metadata": {
    "collapsed": false,
    "ExecuteTime": {
     "end_time": "2024-03-18T08:12:52.143973Z",
     "start_time": "2024-03-18T08:12:52.141918Z"
    }
   },
   "id": "71b4101ccb0fc26c",
   "execution_count": 4
  }
 ],
 "metadata": {
  "kernelspec": {
   "display_name": "Python 3",
   "language": "python",
   "name": "python3"
  },
  "language_info": {
   "codemirror_mode": {
    "name": "ipython",
    "version": 2
   },
   "file_extension": ".py",
   "mimetype": "text/x-python",
   "name": "python",
   "nbconvert_exporter": "python",
   "pygments_lexer": "ipython2",
   "version": "2.7.6"
  }
 },
 "nbformat": 4,
 "nbformat_minor": 5
}
