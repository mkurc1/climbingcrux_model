{
 "cells": [
  {
   "cell_type": "code",
   "execution_count": 1,
   "id": "initial_id",
   "metadata": {
    "collapsed": true,
    "ExecuteTime": {
     "end_time": "2024-03-11T15:56:31.482850Z",
     "start_time": "2024-03-11T15:56:29.540803Z"
    }
   },
   "outputs": [],
   "source": [
    "from ultralytics import YOLO"
   ]
  },
  {
   "cell_type": "code",
   "outputs": [],
   "source": [
    "model = YOLO('./runs/detect/yolov8m_climbing_crux_model5/weights/best.pt')"
   ],
   "metadata": {
    "collapsed": false,
    "ExecuteTime": {
     "end_time": "2024-03-11T15:56:33.162313Z",
     "start_time": "2024-03-11T15:56:33.069458Z"
    }
   },
   "id": "741394233918af65",
   "execution_count": 2
  },
  {
   "cell_type": "code",
   "outputs": [
    {
     "name": "stdout",
     "output_type": "stream",
     "text": [
      "Ultralytics YOLOv8.1.25 🚀 Python-3.11.0 torch-2.2.1 CPU (Apple M3)\n",
      "Model summary (fused): 218 layers, 25840918 parameters, 0 gradients, 78.7 GFLOPs\n"
     ]
    },
    {
     "name": "stderr",
     "output_type": "stream",
     "text": [
      "[W NNPACK.cpp:64] Could not initialize NNPACK! Reason: Unsupported hardware.\n",
      "\u001B[34m\u001B[1mval: \u001B[0mScanning /Users/mkurc1/Workspace/python/climbingcrux_model/datasets/labels/val.cache... 3 images, 0 backgrounds, 0 corrupt: 100%|██████████| 3/3 [00:00<?, ?it/s]\n",
      "                 Class     Images  Instances      Box(P          R      mAP50  mAP50-95): 100%|██████████| 1/1 [00:01<00:00,  1.81s/it]\n"
     ]
    },
    {
     "name": "stdout",
     "output_type": "stream",
     "text": [
      "                   all          3        781       0.52       0.39      0.406      0.278\n",
      "                  hold          3        764      0.651      0.603      0.629      0.387\n",
      "                volume          3         17      0.388      0.176      0.183      0.168\n",
      "Speed: 2.2ms preprocess, 444.1ms inference, 0.0ms loss, 71.8ms postprocess per image\n",
      "Results saved to \u001B[1mruns/detect/val2\u001B[0m\n"
     ]
    }
   ],
   "source": [
    "metrics = model.val(\n",
    "    data='../config.yaml',\n",
    ")"
   ],
   "metadata": {
    "collapsed": false,
    "ExecuteTime": {
     "end_time": "2024-03-11T15:56:40.906842Z",
     "start_time": "2024-03-11T15:56:33.620771Z"
    }
   },
   "id": "4f83ade0ee9dac76",
   "execution_count": 3
  },
  {
   "cell_type": "code",
   "outputs": [
    {
     "name": "stdout",
     "output_type": "stream",
     "text": [
      "0.27771812815737157\n",
      "0.40605063921160023\n",
      "0.30219713484549\n",
      "[    0.38735     0.16808]\n"
     ]
    }
   ],
   "source": [
    "print(metrics.box.map)    # map50-95\n",
    "print(metrics.box.map50)  # map50\n",
    "print(metrics.box.map75)  # map75\n",
    "print(metrics.box.maps)"
   ],
   "metadata": {
    "collapsed": false,
    "ExecuteTime": {
     "end_time": "2024-03-11T15:56:44.519105Z",
     "start_time": "2024-03-11T15:56:44.513281Z"
    }
   },
   "id": "f4624899451c89e9",
   "execution_count": 4
  },
  {
   "cell_type": "code",
   "outputs": [],
   "source": [],
   "metadata": {
    "collapsed": false
   },
   "id": "59324b4501960e6f"
  }
 ],
 "metadata": {
  "kernelspec": {
   "display_name": "Python 3",
   "language": "python",
   "name": "python3"
  },
  "language_info": {
   "codemirror_mode": {
    "name": "ipython",
    "version": 2
   },
   "file_extension": ".py",
   "mimetype": "text/x-python",
   "name": "python",
   "nbconvert_exporter": "python",
   "pygments_lexer": "ipython2",
   "version": "2.7.6"
  }
 },
 "nbformat": 4,
 "nbformat_minor": 5
}
