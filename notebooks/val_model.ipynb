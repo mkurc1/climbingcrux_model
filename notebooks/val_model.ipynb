{
 "cells": [
  {
   "cell_type": "code",
   "execution_count": 1,
   "id": "initial_id",
   "metadata": {
    "collapsed": true,
    "ExecuteTime": {
     "end_time": "2024-04-02T15:59:56.822889Z",
     "start_time": "2024-04-02T15:59:55.047115Z"
    }
   },
   "outputs": [],
   "source": [
    "from ultralytics import YOLO\n",
    "from src import config"
   ]
  },
  {
   "cell_type": "code",
   "outputs": [],
   "source": [
    "model = YOLO(config.YOLO_MODEL_PATH)"
   ],
   "metadata": {
    "collapsed": false,
    "ExecuteTime": {
     "end_time": "2024-04-02T15:59:57.575986Z",
     "start_time": "2024-04-02T15:59:57.302194Z"
    }
   },
   "id": "741394233918af65",
   "execution_count": 2
  },
  {
   "cell_type": "code",
   "outputs": [
    {
     "name": "stdout",
     "output_type": "stream",
     "text": [
      "Ultralytics YOLOv8.1.29 🚀 Python-3.11.8 torch-2.2.1 CPU (Apple M3)\n",
      "YOLOv9e summary (fused): 687 layers, 57377942 parameters, 0 gradients, 189.1 GFLOPs\n"
     ]
    },
    {
     "name": "stderr",
     "output_type": "stream",
     "text": [
      "[W NNPACK.cpp:64] Could not initialize NNPACK! Reason: Unsupported hardware.\n",
      "\u001B[34m\u001B[1mval: \u001B[0mScanning /Users/mkurc1/Workspace/python/climbingcrux_model/datasets/labels/val.cache... 3 images, 0 backgrounds, 0 corrupt: 100%|██████████| 3/3 [00:00<?, ?it/s]\n",
      "                 Class     Images  Instances      Box(P          R      mAP50  mAP50-95): 100%|██████████| 1/1 [00:04<00:00,  4.04s/it]\n"
     ]
    },
    {
     "name": "stdout",
     "output_type": "stream",
     "text": [
      "                   all          3        781      0.694      0.453      0.549      0.399\n",
      "                  hold          3        764      0.617      0.611      0.666      0.438\n",
      "                volume          3         17      0.771      0.294      0.432      0.361\n",
      "Speed: 1.6ms preprocess, 1240.4ms inference, 0.0ms loss, 12.3ms postprocess per image\n",
      "Results saved to \u001B[1mruns/detect/val15\u001B[0m\n"
     ]
    }
   ],
   "source": [
    "metrics = model.val(\n",
    "    data=config.YOLO_CONFIG_PATH,\n",
    "    device=config.YOLO_DEVICE\n",
    ")"
   ],
   "metadata": {
    "collapsed": false,
    "ExecuteTime": {
     "end_time": "2024-04-02T16:00:09.089768Z",
     "start_time": "2024-04-02T15:59:58.055387Z"
    }
   },
   "id": "4f83ade0ee9dac76",
   "execution_count": 3
  },
  {
   "cell_type": "code",
   "outputs": [
    {
     "name": "stdout",
     "output_type": "stream",
     "text": [
      "0.3993934465027518\n",
      "0.5487853745683408\n",
      "0.46319685374230357\n",
      "[    0.43752     0.36127]\n"
     ]
    }
   ],
   "source": [
    "print(metrics.box.map)    # map50-95\n",
    "print(metrics.box.map50)  # map50\n",
    "print(metrics.box.map75)  # map75\n",
    "print(metrics.box.maps)"
   ],
   "metadata": {
    "collapsed": false,
    "ExecuteTime": {
     "end_time": "2024-04-02T16:00:10.099055Z",
     "start_time": "2024-04-02T16:00:10.093627Z"
    }
   },
   "id": "f4624899451c89e9",
   "execution_count": 4
  },
  {
   "cell_type": "code",
   "outputs": [],
   "source": [],
   "metadata": {
    "collapsed": false
   },
   "id": "3a15aa052aaa82b0"
  }
 ],
 "metadata": {
  "kernelspec": {
   "display_name": "Python 3",
   "language": "python",
   "name": "python3"
  },
  "language_info": {
   "codemirror_mode": {
    "name": "ipython",
    "version": 2
   },
   "file_extension": ".py",
   "mimetype": "text/x-python",
   "name": "python",
   "nbconvert_exporter": "python",
   "pygments_lexer": "ipython2",
   "version": "2.7.6"
  }
 },
 "nbformat": 4,
 "nbformat_minor": 5
}
