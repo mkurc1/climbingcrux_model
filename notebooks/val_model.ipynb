{
 "cells": [
  {
   "cell_type": "code",
   "execution_count": 1,
   "id": "initial_id",
   "metadata": {
    "collapsed": true,
    "ExecuteTime": {
     "end_time": "2024-03-20T17:14:59.036255Z",
     "start_time": "2024-03-20T17:14:44.659162Z"
    }
   },
   "outputs": [],
   "source": [
    "from ultralytics import YOLO"
   ]
  },
  {
   "cell_type": "code",
   "outputs": [],
   "source": [
    "model = YOLO('./runs/detect/train3/weights/best.pt')"
   ],
   "metadata": {
    "collapsed": false,
    "ExecuteTime": {
     "end_time": "2024-03-20T17:14:59.304922Z",
     "start_time": "2024-03-20T17:14:59.037318Z"
    }
   },
   "id": "741394233918af65",
   "execution_count": 2
  },
  {
   "cell_type": "code",
   "outputs": [
    {
     "name": "stdout",
     "output_type": "stream",
     "text": [
      "Ultralytics YOLOv8.1.29 🚀 Python-3.11.0 torch-2.2.1 CPU (Apple M3)\n",
      "YOLOv9e summary (fused): 687 layers, 57377942 parameters, 0 gradients, 189.1 GFLOPs\n"
     ]
    },
    {
     "name": "stderr",
     "output_type": "stream",
     "text": [
      "[W NNPACK.cpp:64] Could not initialize NNPACK! Reason: Unsupported hardware.\n",
      "\u001B[34m\u001B[1mval: \u001B[0mScanning /Users/mkurc1/Workspace/python/climbingcrux_model/datasets/labels/val.cache... 3 images, 0 backgrounds, 0 corrupt: 100%|██████████| 3/3 [00:00<?, ?it/s]\n",
      "                 Class     Images  Instances      Box(P          R      mAP50  mAP50-95): 100%|██████████| 1/1 [00:04<00:00,  4.08s/it]\n"
     ]
    },
    {
     "name": "stdout",
     "output_type": "stream",
     "text": [
      "                   all          3        781      0.694      0.453      0.549      0.399\n",
      "                  hold          3        764      0.617      0.611      0.666      0.438\n",
      "                volume          3         17      0.771      0.294      0.432      0.361\n",
      "Speed: 2.1ms preprocess, 1252.1ms inference, 0.0ms loss, 14.5ms postprocess per image\n",
      "Results saved to \u001B[1mruns/detect/val4\u001B[0m\n"
     ]
    }
   ],
   "source": [
    "metrics = model.val(\n",
    "    data='../config.yaml',\n",
    ")"
   ],
   "metadata": {
    "collapsed": false,
    "ExecuteTime": {
     "end_time": "2024-03-20T17:15:12.814196Z",
     "start_time": "2024-03-20T17:14:59.306268Z"
    }
   },
   "id": "4f83ade0ee9dac76",
   "execution_count": 3
  },
  {
   "cell_type": "code",
   "outputs": [
    {
     "name": "stdout",
     "output_type": "stream",
     "text": [
      "0.3993934465027518\n",
      "0.5487853745683408\n",
      "0.46319685374230357\n",
      "[    0.43752     0.36127]\n"
     ]
    }
   ],
   "source": [
    "print(metrics.box.map)    # map50-95\n",
    "print(metrics.box.map50)  # map50\n",
    "print(metrics.box.map75)  # map75\n",
    "print(metrics.box.maps)"
   ],
   "metadata": {
    "collapsed": false,
    "ExecuteTime": {
     "end_time": "2024-03-20T17:15:18.429991Z",
     "start_time": "2024-03-20T17:15:18.426157Z"
    }
   },
   "id": "f4624899451c89e9",
   "execution_count": 4
  },
  {
   "cell_type": "code",
   "outputs": [],
   "source": [],
   "metadata": {
    "collapsed": false
   },
   "id": "499ccdf54d8b4617"
  }
 ],
 "metadata": {
  "kernelspec": {
   "display_name": "Python 3",
   "language": "python",
   "name": "python3"
  },
  "language_info": {
   "codemirror_mode": {
    "name": "ipython",
    "version": 2
   },
   "file_extension": ".py",
   "mimetype": "text/x-python",
   "name": "python",
   "nbconvert_exporter": "python",
   "pygments_lexer": "ipython2",
   "version": "2.7.6"
  }
 },
 "nbformat": 4,
 "nbformat_minor": 5
}
