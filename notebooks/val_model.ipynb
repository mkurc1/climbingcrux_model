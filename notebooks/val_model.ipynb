{
 "cells": [
  {
   "cell_type": "code",
   "execution_count": 1,
   "id": "initial_id",
   "metadata": {
    "collapsed": true,
    "ExecuteTime": {
     "end_time": "2024-04-03T17:19:49.546050Z",
     "start_time": "2024-04-03T17:19:46.774685Z"
    }
   },
   "outputs": [],
   "source": [
    "from ultralytics import YOLO\n",
    "from src import config"
   ]
  },
  {
   "cell_type": "code",
   "outputs": [],
   "source": [
    "model = YOLO(config.YOLO_MODEL_PATH)"
   ],
   "metadata": {
    "collapsed": false,
    "ExecuteTime": {
     "end_time": "2024-04-03T17:19:50.248722Z",
     "start_time": "2024-04-03T17:19:50.152107Z"
    }
   },
   "id": "741394233918af65",
   "execution_count": 2
  },
  {
   "cell_type": "code",
   "outputs": [
    {
     "name": "stdout",
     "output_type": "stream",
     "text": [
      "Ultralytics YOLOv8.1.29 🚀 Python-3.11.8 torch-2.2.1 CPU (Apple M3)\n",
      "YOLOv9c summary (fused): 384 layers, 25320790 parameters, 0 gradients, 102.3 GFLOPs\n"
     ]
    },
    {
     "name": "stderr",
     "output_type": "stream",
     "text": [
      "[W NNPACK.cpp:64] Could not initialize NNPACK! Reason: Unsupported hardware.\n",
      "\u001B[34m\u001B[1mval: \u001B[0mScanning /Users/mkurc1/Workspace/python/climbingcrux_model/datasets/labels/val.cache... 4 images, 0 backgrounds, 0 corrupt: 100%|██████████| 4/4 [00:00<?, ?it/s]\n",
      "                 Class     Images  Instances      Box(P          R      mAP50  mAP50-95): 100%|██████████| 1/1 [00:03<00:00,  3.34s/it]\n"
     ]
    },
    {
     "name": "stdout",
     "output_type": "stream",
     "text": [
      "                   all          4        859      0.835      0.774      0.799      0.646\n",
      "                  hold          4        831      0.902      0.762      0.854      0.623\n",
      "                volume          4         28      0.768      0.786      0.743      0.668\n",
      "Speed: 1.6ms preprocess, 739.9ms inference, 0.0ms loss, 7.1ms postprocess per image\n",
      "Results saved to \u001B[1mruns/detect/val16\u001B[0m\n"
     ]
    }
   ],
   "source": [
    "metrics = model.val(\n",
    "    data=config.YOLO_CONFIG_PATH,\n",
    "    device=config.YOLO_DEVICE\n",
    ")"
   ],
   "metadata": {
    "collapsed": false,
    "ExecuteTime": {
     "end_time": "2024-04-03T17:19:59.152275Z",
     "start_time": "2024-04-03T17:19:50.584358Z"
    }
   },
   "id": "4f83ade0ee9dac76",
   "execution_count": 3
  },
  {
   "cell_type": "code",
   "outputs": [
    {
     "name": "stdout",
     "output_type": "stream",
     "text": [
      "0.6456433589449301\n",
      "0.798542767602449\n",
      "0.7193287820994217\n",
      "[    0.62285     0.66844]\n"
     ]
    }
   ],
   "source": [
    "print(metrics.box.map)    # map50-95\n",
    "print(metrics.box.map50)  # map50\n",
    "print(metrics.box.map75)  # map75\n",
    "print(metrics.box.maps)"
   ],
   "metadata": {
    "collapsed": false,
    "ExecuteTime": {
     "end_time": "2024-04-03T17:20:02.677509Z",
     "start_time": "2024-04-03T17:20:02.670675Z"
    }
   },
   "id": "f4624899451c89e9",
   "execution_count": 4
  },
  {
   "cell_type": "code",
   "outputs": [],
   "source": [],
   "metadata": {
    "collapsed": false
   },
   "id": "3a15aa052aaa82b0"
  }
 ],
 "metadata": {
  "kernelspec": {
   "display_name": "Python 3",
   "language": "python",
   "name": "python3"
  },
  "language_info": {
   "codemirror_mode": {
    "name": "ipython",
    "version": 2
   },
   "file_extension": ".py",
   "mimetype": "text/x-python",
   "name": "python",
   "nbconvert_exporter": "python",
   "pygments_lexer": "ipython2",
   "version": "2.7.6"
  }
 },
 "nbformat": 4,
 "nbformat_minor": 5
}
