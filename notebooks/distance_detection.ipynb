{
 "cells": [
  {
   "cell_type": "code",
   "execution_count": 2,
   "id": "initial_id",
   "metadata": {
    "collapsed": true,
    "ExecuteTime": {
     "end_time": "2024-03-12T17:54:18.299954Z",
     "start_time": "2024-03-12T17:54:16.325234Z"
    }
   },
   "outputs": [],
   "source": [
    "from ultralytics import YOLO\n",
    "from ultralytics.solutions import distance_calculation\n",
    "import cv2"
   ]
  },
  {
   "cell_type": "code",
   "outputs": [],
   "source": [
    "model = YOLO('./runs/detect/yolov8m_climbing_crux_model6/weights/best.pt')\n",
    "names = model.model.names"
   ],
   "metadata": {
    "collapsed": false,
    "ExecuteTime": {
     "end_time": "2024-03-12T17:54:18.443727Z",
     "start_time": "2024-03-12T17:54:18.301155Z"
    }
   },
   "id": "2dbb348de908032c",
   "execution_count": 3
  },
  {
   "cell_type": "code",
   "outputs": [],
   "source": [
    "img = cv2.imread('./../datasets/images/test/23.jpeg')"
   ],
   "metadata": {
    "collapsed": false,
    "ExecuteTime": {
     "end_time": "2024-03-12T17:54:18.452445Z",
     "start_time": "2024-03-12T17:54:18.444674Z"
    }
   },
   "id": "c9bafe4b7146c5c7",
   "execution_count": 4
  },
  {
   "cell_type": "code",
   "outputs": [],
   "source": [
    "height, width, _ = img.shape"
   ],
   "metadata": {
    "collapsed": false,
    "ExecuteTime": {
     "end_time": "2024-03-12T17:54:18.456071Z",
     "start_time": "2024-03-12T17:54:18.453911Z"
    }
   },
   "id": "62870203734c6512",
   "execution_count": 5
  },
  {
   "cell_type": "code",
   "outputs": [
    {
     "name": "stdout",
     "output_type": "stream",
     "text": [
      "Height: 1024\n",
      "Width: 768\n"
     ]
    }
   ],
   "source": [
    "print('Height:', height)\n",
    "print('Width:', width)"
   ],
   "metadata": {
    "collapsed": false,
    "ExecuteTime": {
     "end_time": "2024-03-12T17:54:18.459630Z",
     "start_time": "2024-03-12T17:54:18.457149Z"
    }
   },
   "id": "3cdb7d8c09a1a25a",
   "execution_count": 6
  },
  {
   "cell_type": "code",
   "outputs": [],
   "source": [
    "box1 = {}\n",
    "box2 = {}"
   ],
   "metadata": {
    "collapsed": false
   },
   "id": "c29e1c5bb43b7863"
  },
  {
   "cell_type": "code",
   "outputs": [
    {
     "ename": "NameError",
     "evalue": "name 'distance_calculation' is not defined",
     "output_type": "error",
     "traceback": [
      "\u001B[0;31m---------------------------------------------------------------------------\u001B[0m",
      "\u001B[0;31mNameError\u001B[0m                                 Traceback (most recent call last)",
      "Cell \u001B[0;32mIn[1], line 1\u001B[0m\n\u001B[0;32m----> 1\u001B[0m dist_obj \u001B[38;5;241m=\u001B[39m \u001B[43mdistance_calculation\u001B[49m\u001B[38;5;241m.\u001B[39mDistanceCalculation()\n\u001B[1;32m      2\u001B[0m dist_obj\u001B[38;5;241m.\u001B[39mset_args(names\u001B[38;5;241m=\u001B[39mnames, view_img\u001B[38;5;241m=\u001B[39m\u001B[38;5;28;01mFalse\u001B[39;00m)\n\u001B[1;32m      4\u001B[0m tracks \u001B[38;5;241m=\u001B[39m model\u001B[38;5;241m.\u001B[39mtrack(img, persist\u001B[38;5;241m=\u001B[39m\u001B[38;5;28;01mTrue\u001B[39;00m, show\u001B[38;5;241m=\u001B[39m\u001B[38;5;28;01mFalse\u001B[39;00m)\n",
      "\u001B[0;31mNameError\u001B[0m: name 'distance_calculation' is not defined"
     ]
    }
   ],
   "source": [
    "dist_obj = distance_calculation.DistanceCalculation()\n",
    "dist_obj.set_args(names=names, view_img=False)\n",
    "\n",
    "tracks = model.track(img, persist=True, show=False)\n",
    "distance = dist_obj.calculate_distance(box1, box2)"
   ],
   "metadata": {
    "collapsed": false,
    "ExecuteTime": {
     "end_time": "2024-03-12T17:55:48.979491Z",
     "start_time": "2024-03-12T17:55:48.849770Z"
    }
   },
   "id": "5f5b99ded3773a1b",
   "execution_count": 1
  },
  {
   "cell_type": "code",
   "outputs": [],
   "source": [],
   "metadata": {
    "collapsed": false
   },
   "id": "b7428b7355333ed7"
  }
 ],
 "metadata": {
  "kernelspec": {
   "display_name": "Python 3",
   "language": "python",
   "name": "python3"
  },
  "language_info": {
   "codemirror_mode": {
    "name": "ipython",
    "version": 2
   },
   "file_extension": ".py",
   "mimetype": "text/x-python",
   "name": "python",
   "nbconvert_exporter": "python",
   "pygments_lexer": "ipython2",
   "version": "2.7.6"
  }
 },
 "nbformat": 4,
 "nbformat_minor": 5
}
